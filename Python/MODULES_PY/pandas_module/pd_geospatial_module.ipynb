{
 "cells": [
  {
   "cell_type": "markdown",
   "metadata": {},
   "source": [
    "# IMPORTS and GENERAL FUNCS"
   ]
  },
  {
   "cell_type": "code",
   "execution_count": 3,
   "metadata": {},
   "outputs": [
    {
     "name": "stdout",
     "output_type": "stream",
     "text": [
      "GeoPandas Version:  1.0.1\n",
      "Numpy Version:  1.25.1\n",
      "Pandas Version:  2.2.2\n",
      "Shapely Version:  2.0.6\n"
     ]
    }
   ],
   "source": [
    "import geopandas  as gpd\n",
    "import numpy      as np\n",
    "import pandas     as pd\n",
    "import shapely    as shape\n",
    "import os\n",
    "from decorators import time_it\n",
    "\n",
    "print(\"GeoPandas Version: \", gpd.__version__)\n",
    "print(\"Numpy Version: \", np.__version__)\n",
    "print(\"Pandas Version: \", pd.__version__)\n",
    "print(\"Shapely Version: \", shape.__version__)\n",
    "\n",
    "def sep() -> str:\n",
    "  return print('----------------------------------------------------------------------------------------------------------------')"
   ]
  },
  {
   "cell_type": "markdown",
   "metadata": {},
   "source": [
    "# CREATING DATAFRAMES"
   ]
  },
  {
   "cell_type": "markdown",
   "metadata": {},
   "source": [
    "#### From a Shapefile"
   ]
  },
  {
   "cell_type": "code",
   "execution_count": null,
   "metadata": {},
   "outputs": [],
   "source": [
    "@time_it\n",
    "def ShpToDF(shp_file):\n",
    "  gdf       = gpd.read_file(shp_file)\n",
    "  df        = gdf.drop(columns='geometry')\n",
    "  return df\n",
    "\n",
    "cwd            = os.getcwd()\n",
    "shp_file_path  = os.path.join(cwd, 'shapefiles', 'geo_data.shp')\n",
    "\n",
    "df = ShpToDF(shp_file_path)\n",
    "\n",
    "# print(df)\n",
    "# print(type(df))\n",
    "print(\"\\n\", df.to_string())\n"
   ]
  },
  {
   "cell_type": "markdown",
   "metadata": {},
   "source": [
    "#### From a CSV File"
   ]
  },
  {
   "cell_type": "code",
   "execution_count": null,
   "metadata": {},
   "outputs": [],
   "source": [
    "@time_it\n",
    "def CsvToDF(csv_file):\n",
    "  df        = pd.read_csv(csv_file)\n",
    "  return df\n",
    "\n",
    "cwd           = os.getcwd()\n",
    "csv_filepath  = os.path.join(cwd, 'geo_data.csv')\n",
    "\n",
    "df = CsvToDF(csv_filepath)\n",
    "# print(df.head(n=10))\n",
    "# print(type(df))\n",
    "print(\"\\n\", df.to_string())"
   ]
  },
  {
   "cell_type": "markdown",
   "metadata": {},
   "source": [
    "#### From JSON File"
   ]
  },
  {
   "cell_type": "code",
   "execution_count": null,
   "metadata": {},
   "outputs": [],
   "source": [
    "@time_it\n",
    "def JsonToDF(json_file):\n",
    "  df        = pd.read_json(json_file)\n",
    "  return df\n",
    "\n",
    "cwd             = os.getcwd()\n",
    "json_filepath   = os.path.join(cwd, 'geo_data.json')\n",
    "\n",
    "df = JsonToDF(json_filepath)\n",
    "# print(df.head(n=10))\n",
    "# print(type(df))\n",
    "print(\"\\n\", df.to_string())"
   ]
  },
  {
   "cell_type": "markdown",
   "metadata": {},
   "source": [
    "#### From GeoJson File"
   ]
  },
  {
   "cell_type": "code",
   "execution_count": null,
   "metadata": {},
   "outputs": [],
   "source": [
    "# Using the geopandas module\n",
    "@time_it\n",
    "def GeoJsonToDF(geojson_file):\n",
    "  gdf       = gpd.read_file(geojson_file)\n",
    "  gdf       = gpd.GeoDataFrame(gdf)\n",
    "  # Separate the 'geometry' column into individual 'Latitude' and 'Longitude' columns, drop 'geometry' column\n",
    "  gdf['Latitude']   = gdf.geometry.y\n",
    "  gdf['Longitude']  = gdf.geometry.x\n",
    "  df                = gdf.drop(columns='geometry')\n",
    "  # Reorder columns to move 'Latitude' and 'Longitude' columns between 'Name' and 'LandUse' columns\n",
    "  df = df[['ID', 'Name', 'Latitude', 'Longitude', 'LandUse', 'Area_sq_km', 'Population', 'Elevation_m']]\n",
    "  return df\n",
    "  \n",
    "\n",
    "cwd               = os.getcwd()\n",
    "geojson_filepath  = os.path.join(cwd, 'geo_data.geojson')\n",
    "\n",
    "df = GeoJsonToDF(geojson_filepath)\n",
    "# print(gdf.head(n=10))\n",
    "# print(type(df))\n",
    "print(\"\\n\", df.to_string())"
   ]
  },
  {
   "cell_type": "markdown",
   "metadata": {},
   "source": [
    "#### From a Dictionary"
   ]
  },
  {
   "cell_type": "code",
   "execution_count": null,
   "metadata": {},
   "outputs": [],
   "source": [
    "df_1 = pd.DataFrame(\n",
    "  { \"a\" : [4, 5, 6],\n",
    "    \"b\" : [7, 8, 9],\n",
    "    \"c\" : [10, 11, 12],\n",
    "  },\n",
    "    index = [1, 2, 3],\n",
    ")\n",
    "\n",
    "print(df_1)\n",
    "df_1.plot.area()\n",
    "df_1.plot.bar()\n",
    "df_1.plot.barh()\n",
    "df_1.plot.box()\n",
    "df_1.plot.density()\n",
    "df_1.plot.kde()\n",
    "df_1.plot.line()\n",
    "df_1.plot.pie(subplots=True)"
   ]
  },
  {
   "cell_type": "code",
   "execution_count": null,
   "metadata": {},
   "outputs": [],
   "source": [
    "df_4_data: dict = {\n",
    "  \"Name\": [\n",
    "    \"Braund, Mr. Owen Harris\",\n",
    "    \"Allen, Mr. William Henry\",\n",
    "    \"Bonnell, Miss. Elizabeth\"\n",
    "  ],\n",
    "  \"Age\": [22, None, 58],\n",
    "  \"Sex\": [\"male\", \"male\", \"female\"],\n",
    "}\n",
    "\n",
    "df = pd.DataFrame(df_4_data)\n",
    "print(df)\n",
    "\n",
    "print(\"\\n\")\n",
    "\n",
    "df_age = df[\"Age\"]\n",
    "print(df_age)"
   ]
  },
  {
   "cell_type": "markdown",
   "metadata": {},
   "source": [
    "#### From a List of Lists"
   ]
  },
  {
   "cell_type": "code",
   "execution_count": null,
   "metadata": {},
   "outputs": [],
   "source": [
    "df_2 = pd.DataFrame(\n",
    "  data=[\n",
    "    [4, 7, 10],\n",
    "    [5, 8, 11], \n",
    "    [6, 9, 12],\n",
    "  ], \n",
    "  index=[1, 2, 3],\n",
    "  columns=['a', 'b', 'c']\n",
    ")\n",
    "\n",
    "print(df_2)"
   ]
  },
  {
   "cell_type": "markdown",
   "metadata": {},
   "source": [
    "#### Multi-Indexing"
   ]
  },
  {
   "cell_type": "code",
   "execution_count": 4,
   "metadata": {},
   "outputs": [
    {
     "name": "stdout",
     "output_type": "stream",
     "text": [
      "     a  b   c\n",
      "n v          \n",
      "d 1  4  7  10\n",
      "  2  5  8  11\n",
      "e 2  6  9  12\n"
     ]
    }
   ],
   "source": [
    "# MultiIndexing\n",
    "df_3_data: dict = {\n",
    "  \"a\" : [4, 5, 6],\n",
    "  \"b\" : [7, 8, 9],\n",
    "  \"c\" : [10, 11, 12]\n",
    "}\n",
    "\n",
    "df_3_index = pd.MultiIndex.from_tuples(\n",
    "  [\n",
    "    (\"d\", 1),(\"d\", 2),\n",
    "    (\"e\", 2)\n",
    "  ], \n",
    "  names=[\"n\", \"v\"]\n",
    ")\n",
    "\n",
    "table = pd.DataFrame(data=df_3_data, index=df_3_index)\n",
    "\n",
    "print(table)"
   ]
  },
  {
   "cell_type": "markdown",
   "metadata": {},
   "source": [
    "#### From dict of Series or dicts"
   ]
  },
  {
   "cell_type": "code",
   "execution_count": null,
   "metadata": {},
   "outputs": [],
   "source": [
    "d_4_data = {\n",
    "    \"one\": pd.Series([1.0, 2.0, 3.0], index=[\"a\", \"b\", \"c\"]),\n",
    "    \"two\": pd.Series([1.0, 2.0, 3.0, 4.0], index=[\"a\", \"b\", \"c\", \"d\"]),\n",
    "}\n",
    "df_a = pd.DataFrame(d_4_data)\n",
    "print(df_a)\n",
    "\n",
    "print(\"\\n\")\n",
    "\n",
    "df_b = pd.DataFrame(d_4_data, index=[\"d\", \"b\", \"a\"], columns=[\"two\", \"three\"])\n",
    "print(df_b)"
   ]
  },
  {
   "cell_type": "markdown",
   "metadata": {},
   "source": [
    "# CREATE A SERIES FROM SCRATCH"
   ]
  },
  {
   "cell_type": "code",
   "execution_count": null,
   "metadata": {},
   "outputs": [],
   "source": [
    "ages = pd.Series([22, 35, 58], name=\"Age\")\n",
    "print(ages)"
   ]
  },
  {
   "cell_type": "code",
   "execution_count": null,
   "metadata": {},
   "outputs": [],
   "source": [
    "s1 = pd.Series(np.random.randn(5), index=[\"a\", \"b\", \"c\", \"d\", \"e\"])\n",
    "print(s1)"
   ]
  },
  {
   "cell_type": "code",
   "execution_count": null,
   "metadata": {},
   "outputs": [],
   "source": [
    "print(s1.index)"
   ]
  },
  {
   "cell_type": "code",
   "execution_count": null,
   "metadata": {},
   "outputs": [],
   "source": [
    "s2 = pd.Series(np.random.randn(5))\n",
    "print(s2)"
   ]
  },
  {
   "cell_type": "code",
   "execution_count": null,
   "metadata": {},
   "outputs": [],
   "source": [
    "# Series instantiated from dicts:\n",
    "d = {\"b\": 1, \"a\": 0, \"c\": 2}\n",
    "s3 = pd.Series(d)\n",
    "print(s3)"
   ]
  },
  {
   "cell_type": "code",
   "execution_count": null,
   "metadata": {},
   "outputs": [],
   "source": [
    "# If an index is passed, the values in data corresponding to the labels in the index will be pulled out\n",
    "s4 = pd.Series(d, index=[\"b\", \"c\", \"d\", \"a\"])\n",
    "print(s4)"
   ]
  },
  {
   "cell_type": "markdown",
   "metadata": {},
   "source": [
    "# DO SOMETHING WITH THE DATAFRAME"
   ]
  },
  {
   "cell_type": "markdown",
   "metadata": {},
   "source": [
    "#### Accessing Data from the DataFrame"
   ]
  },
  {
   "cell_type": "code",
   "execution_count": null,
   "metadata": {},
   "outputs": [],
   "source": [
    "'''\n",
    "SCENARIO: I am interestined in some basic statistics of the numerical data of my data table and accessing it\n",
    "'''\n",
    "# NOTE: use the following examples with the csv dataframe generated in <CREATING DATAFRAMES: FROM CSV FILE> section above\n",
    "print(\"DataFrame:\\n\", df.to_string())\n",
    "sep()\n",
    "\n",
    "overview_data = df.describe()\n",
    "print(\"Summary Statistics:\\n\", overview_data)\n",
    "sep()\n",
    "\n",
    "# Two ways to get mean/avg population\n",
    "print(\"Avg Population:\\t\\t\", overview_data[\"Population\"][\"mean\"])\n",
    "mean_population = df[\"Population\"].mean()\n",
    "print(\"Mean Population:\\t\", mean_population)\n",
    "\n",
    "print(\"Avg Area: \", overview_data[\"Area_sq_km\"][\"mean\"])\n",
    "\n",
    "count_parks = df[\"LandUse\"].value_counts()\n",
    "print(\"Parks Count: \", count_parks[\"Parks\"])"
   ]
  },
  {
   "cell_type": "markdown",
   "metadata": {},
   "source": [
    "#### Conditional Updating"
   ]
  },
  {
   "cell_type": "code",
   "execution_count": null,
   "metadata": {},
   "outputs": [],
   "source": [
    "# Print working DataFrame\n",
    "print(\"Working DataFrame: \\n\", df.to_string())\n",
    "sep()\n",
    "\n",
    "# Creates a boolean mask for updating column LandUse based on values in column LandUse\n",
    "df.loc[df.LandUse == \"Parks\", \"LandUse\"] = \"ParkRec\"\n",
    "print(\"Updated LandUse Labels:\\n\", df.to_string())\n",
    "sep()\n",
    "\n",
    "# Create a new column based on values\n",
    "# df.loc[df.Area_sq_km >= 1.49, \"SizeCat\" ] = \"Large\"\n",
    "# df.loc[df.Area_sq_km < 1.49, \"SizeCat\" ]  = \"Small\"\n",
    "df[\"SizeCat\"] = np.where(df.Area_sq_km >= 1.49, \"Large\", \"Small\") # !!!: OneLiner using NumPy\n",
    "print(\"Updated w/Size Category:\\n\", df.to_string())\n",
    "sep()\n",
    "\n",
    "# Select all Residential assets and display records\n",
    "residential = df.loc[df['LandUse'] == \"Residential\"]\n",
    "print(\"Residential Assets:\\n\", residential.to_string())\n",
    "sep()\n",
    "\n",
    "# Check mutated DataFrame \n",
    "print(\"Mutated DataFrame:\\n\", df.to_string())"
   ]
  },
  {
   "cell_type": "markdown",
   "metadata": {},
   "source": [
    "# EXPORT DATAFRAMES"
   ]
  },
  {
   "cell_type": "markdown",
   "metadata": {},
   "source": [
    "#### Export to CSV"
   ]
  },
  {
   "cell_type": "code",
   "execution_count": null,
   "metadata": {},
   "outputs": [],
   "source": [
    "cwd           = os.getcwd()\n",
    "csv_output    = os.path.join(cwd, 'update_geo_data.csv')\n",
    "df.to_csv(csv_output, \n",
    "          index=False, \n",
    "          columns=['ID', 'Name', 'Latitude', 'Longitude','LandUse','Area_sq_km', 'SizeCat', 'Population','Elevation_m']\n",
    "        ) # NOTE: if reordering columns, use columns parameter as shown"
   ]
  }
 ],
 "metadata": {
  "kernelspec": {
   "display_name": "Python 3",
   "language": "python",
   "name": "python3"
  },
  "language_info": {
   "codemirror_mode": {
    "name": "ipython",
    "version": 3
   },
   "file_extension": ".py",
   "mimetype": "text/x-python",
   "name": "python",
   "nbconvert_exporter": "python",
   "pygments_lexer": "ipython3",
   "version": "3.11.4"
  }
 },
 "nbformat": 4,
 "nbformat_minor": 2
}
