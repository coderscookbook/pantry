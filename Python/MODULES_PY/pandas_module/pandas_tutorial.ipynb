{
 "cells": [
  {
   "cell_type": "code",
   "execution_count": null,
   "metadata": {},
   "outputs": [],
   "source": [
    "import geopandas  as gpd\n",
    "import numpy      as np\n",
    "import pandas     as pd\n",
    "import shapely    as shape\n",
    "import os\n",
    "\n",
    "print(\"GeoPandas Version: \", gpd.__version__)\n",
    "print(\"Numpy Version: \", np.__version__)\n",
    "print(\"Pandas Version: \", pd.__version__)\n",
    "print(\"Shapely Version: \", shape.__version__)"
   ]
  },
  {
   "cell_type": "markdown",
   "metadata": {},
   "source": [
    "# CREATING DATAFRAMES"
   ]
  },
  {
   "cell_type": "code",
   "execution_count": null,
   "metadata": {},
   "outputs": [],
   "source": [
    "# Create a DataFrame with your data\n",
    "cwd       = os.getcwd()\n",
    "filepath  = os.path.join(cwd, 'geo_data.csv')\n",
    "\n",
    "df        = pd.read_csv(filepath)\n",
    "df        = pd.DataFrame(df)\n",
    "\n",
    "# One Line:\n",
    "# gdf       = gpd.GeoDataFrame(\n",
    "#               df,\n",
    "#               geometry=gpd.points_from_xy(df.Longitude, df.Latitude),\n",
    "#               crs=\"EPSG: 4326\"\n",
    "#             )\n",
    "\n",
    "# Convert DataFrame to GeoDataFrame\n",
    "gdf = gpd.GeoDataFrame( \n",
    "                        df, \n",
    "                        geometry=gpd.points_from_xy(df.Longitude, df.Latitude)\n",
    "                      )\n",
    "\n",
    "# Define a coordinate reference system (CRS)\n",
    "gdf.crs = \"EPSG:4326\"  # WGS 84\n",
    "\n",
    "# Save the GeoDataFrame to a shapefile\n",
    "gdf.to_file('geo_data.shp')\n",
    "\n",
    "# print(gdf)\n",
    "print(\"Shapefile created successfully.\")"
   ]
  },
  {
   "cell_type": "markdown",
   "metadata": {},
   "source": [
    "#### From a Shapefile"
   ]
  },
  {
   "cell_type": "code",
   "execution_count": null,
   "metadata": {},
   "outputs": [],
   "source": [
    "cwd       = os.getcwd()\n",
    "filepath  = os.path.join(cwd, 'shapefiles', 'geo_data.shp')\n",
    "gdf       = gpd.read_file(filepath)\n",
    "df        = pd.DataFrame(gdf.drop(columns='geometry'))\n",
    "print(df)"
   ]
  },
  {
   "cell_type": "markdown",
   "metadata": {},
   "source": [
    "#### From a CSV File"
   ]
  },
  {
   "cell_type": "code",
   "execution_count": null,
   "metadata": {},
   "outputs": [],
   "source": [
    "cwd       = os.getcwd()\n",
    "filepath  = os.path.join(cwd, 'geo_data.csv')\n",
    "df        = pd.read_csv(filepath)\n",
    "df        = pd.DataFrame(df)\n",
    "print(df.head(n=10))"
   ]
  },
  {
   "cell_type": "markdown",
   "metadata": {},
   "source": [
    "#### From JSON File"
   ]
  },
  {
   "cell_type": "code",
   "execution_count": null,
   "metadata": {},
   "outputs": [],
   "source": [
    "cwd       = os.getcwd()\n",
    "filepath  = os.path.join(cwd, 'geo_data.json')\n",
    "df        = pd.read_json(filepath)\n",
    "df        = pd.DataFrame(df)\n",
    "print(df.head(n=10))"
   ]
  },
  {
   "cell_type": "markdown",
   "metadata": {},
   "source": [
    "#### From GeoJson File"
   ]
  },
  {
   "cell_type": "code",
   "execution_count": null,
   "metadata": {},
   "outputs": [],
   "source": [
    "# Using the geopandas module\n",
    "cwd       = os.getcwd()\n",
    "filepath  = os.path.join(cwd, 'geo_data.geojson')\n",
    "gdf       = gpd.read_file(filepath)\n",
    "gdf       = gpd.GeoDataFrame(gdf)\n",
    "# print(gdf.head(n=10))\n",
    "# Separate the 'geometry' column into individual 'Latitude' and 'Longitude' columns, drop 'geometry' column\n",
    "gdf['Latitude']   = gdf.geometry.y\n",
    "gdf['Longitude']  = gdf.geometry.x\n",
    "df                = gdf.drop(columns='geometry')\n",
    "# Reorder columns to move 'Latitude' and 'Longitude' columns between 'Name' and 'LandUse' columns\n",
    "df = df[['ID', 'Name', 'Latitude', 'Longitude', 'LandUse', 'Area_sq_km', 'Population', 'Elevation_m']]\n",
    "\n",
    "print(df)"
   ]
  },
  {
   "cell_type": "markdown",
   "metadata": {},
   "source": [
    "#### From a Dictionary"
   ]
  },
  {
   "cell_type": "code",
   "execution_count": null,
   "metadata": {},
   "outputs": [],
   "source": [
    "df_1 = pd.DataFrame(\n",
    "  { \"a\" : [4, 5, 6],\n",
    "    \"b\" : [7, 8, 9],\n",
    "    \"c\" : [10, 11, 12],\n",
    "  },\n",
    "    index = [1, 2, 3],\n",
    ")\n",
    "\n",
    "print(df_1)\n",
    "df_1.plot.area()\n",
    "df_1.plot.bar()\n",
    "df_1.plot.barh()\n",
    "df_1.plot.box()\n",
    "df_1.plot.density()\n",
    "df_1.plot.kde()\n",
    "df_1.plot.line()\n",
    "df_1.plot.pie(subplots=True)\n"
   ]
  },
  {
   "cell_type": "code",
   "execution_count": null,
   "metadata": {},
   "outputs": [],
   "source": [
    "df_4_data: dict = {\n",
    "  \"Name\": [\n",
    "    \"Braund, Mr. Owen Harris\",\n",
    "    \"Allen, Mr. William Henry\",\n",
    "    \"Bonnell, Miss. Elizabeth\"\n",
    "  ],\n",
    "  \"Age\": [22, None, 58],\n",
    "  \"Sex\": [\"male\", \"male\", \"female\"],\n",
    "}\n",
    "\n",
    "df = pd.DataFrame(df_4_data)\n",
    "print(df)\n",
    "\n",
    "print(\"\\n\")\n",
    "\n",
    "df_age = df[\"Age\"]\n",
    "print(df_age)"
   ]
  },
  {
   "cell_type": "markdown",
   "metadata": {},
   "source": [
    "#### From a List of Lists"
   ]
  },
  {
   "cell_type": "code",
   "execution_count": null,
   "metadata": {},
   "outputs": [],
   "source": [
    "df_2 = pd.DataFrame(\n",
    "  data=[\n",
    "    [4, 7, 10],\n",
    "    [5, 8, 11], \n",
    "    [6, 9, 12],\n",
    "  ], \n",
    "  index=[1, 2, 3],\n",
    "  columns=['a', 'b', 'c']\n",
    ")\n",
    "\n",
    "print(df_2)"
   ]
  },
  {
   "cell_type": "markdown",
   "metadata": {},
   "source": [
    "#### Multi-Indexing"
   ]
  },
  {
   "cell_type": "code",
   "execution_count": null,
   "metadata": {},
   "outputs": [],
   "source": [
    "# MultiIndexing\n",
    "df_3_data: dict = {\n",
    "  \"a\" : [4, 5, 6],\n",
    "  \"b\" : [7, 8, 9],\n",
    "  \"c\" : [10, 11, 12]\n",
    "}\n",
    "\n",
    "df_3_index = pd.MultiIndex.from_tuples(\n",
    "  [\n",
    "    (\"d\", 1),(\"d\", 2),\n",
    "    (\"e\", 2)\n",
    "  ], \n",
    "  names=[\"n\", \"v\"]\n",
    ")\n",
    "\n",
    "table = pd.DataFrame(data=df_3_data, index=df_3_index)\n",
    "\n",
    "print(table)"
   ]
  },
  {
   "cell_type": "markdown",
   "metadata": {},
   "source": [
    "#### From dict of Series or dicts"
   ]
  },
  {
   "cell_type": "code",
   "execution_count": null,
   "metadata": {},
   "outputs": [],
   "source": [
    "d_4_data = {\n",
    "    \"one\": pd.Series([1.0, 2.0, 3.0], index=[\"a\", \"b\", \"c\"]),\n",
    "    \"two\": pd.Series([1.0, 2.0, 3.0, 4.0], index=[\"a\", \"b\", \"c\", \"d\"]),\n",
    "}\n",
    "df_a = pd.DataFrame(d_4_data)\n",
    "print(df_a)\n",
    "\n",
    "print(\"\\n\")\n",
    "\n",
    "df_b = pd.DataFrame(d_4_data, index=[\"d\", \"b\", \"a\"], columns=[\"two\", \"three\"])\n",
    "print(df_b)"
   ]
  },
  {
   "cell_type": "markdown",
   "metadata": {},
   "source": [
    "# CREATE A SERIES FROM SCRATCH"
   ]
  },
  {
   "cell_type": "code",
   "execution_count": null,
   "metadata": {},
   "outputs": [],
   "source": [
    "ages = pd.Series([22, 35, 58], name=\"Age\")\n",
    "print(ages)"
   ]
  },
  {
   "cell_type": "code",
   "execution_count": null,
   "metadata": {},
   "outputs": [],
   "source": [
    "s1 = pd.Series(np.random.randn(5), index=[\"a\", \"b\", \"c\", \"d\", \"e\"])\n",
    "print(s1)"
   ]
  },
  {
   "cell_type": "code",
   "execution_count": null,
   "metadata": {},
   "outputs": [],
   "source": [
    "print(s1.index)"
   ]
  },
  {
   "cell_type": "code",
   "execution_count": null,
   "metadata": {},
   "outputs": [],
   "source": [
    "s2 = pd.Series(np.random.randn(5))\n",
    "print(s2)"
   ]
  },
  {
   "cell_type": "code",
   "execution_count": null,
   "metadata": {},
   "outputs": [],
   "source": [
    "# Series instantiated from dicts:\n",
    "d = {\"b\": 1, \"a\": 0, \"c\": 2}\n",
    "s3 = pd.Series(d)\n",
    "print(s3)"
   ]
  },
  {
   "cell_type": "code",
   "execution_count": null,
   "metadata": {},
   "outputs": [],
   "source": [
    "# If an index is passed, the values in data corresponding to the labels in the index will be pulled out\n",
    "s4 = pd.Series(d, index=[\"b\", \"c\", \"d\", \"a\"])\n",
    "print(s4)"
   ]
  },
  {
   "cell_type": "markdown",
   "metadata": {},
   "source": [
    "# DO SOMETHING WITH THE DATAFRAME"
   ]
  },
  {
   "cell_type": "code",
   "execution_count": null,
   "metadata": {},
   "outputs": [],
   "source": [
    "'''\n",
    "SCENARIO: I want to know the max age of the passengers\n",
    "'''\n",
    "pass_max_age = df[\"Age\"].max()\n",
    "# for series => ages.max()\n",
    "print(pass_max_age)"
   ]
  },
  {
   "cell_type": "code",
   "execution_count": null,
   "metadata": {},
   "outputs": [],
   "source": [
    "'''\n",
    "SCENARIO: I am interestined in some basic statistics of the numerical data of my data table \n",
    "'''\n",
    "overview_data = df.describe()\n",
    "print(overview_data)\n",
    "\n",
    "mean_age = df[\"Age\"].mean()\n",
    "print(\"Mean Age: \", mean_age)\n",
    "# count = df.count()\n",
    "count_ages = df[\"Age\"].count()\n",
    "# print(\"Count: \", count)\n",
    "print(\"Ages Count: \", count_ages)"
   ]
  }
 ],
 "metadata": {
  "kernelspec": {
   "display_name": "Python 3",
   "language": "python",
   "name": "python3"
  },
  "language_info": {
   "codemirror_mode": {
    "name": "ipython",
    "version": 3
   },
   "file_extension": ".py",
   "mimetype": "text/x-python",
   "name": "python",
   "nbconvert_exporter": "python",
   "pygments_lexer": "ipython3",
   "version": "3.11.4"
  }
 },
 "nbformat": 4,
 "nbformat_minor": 2
}
