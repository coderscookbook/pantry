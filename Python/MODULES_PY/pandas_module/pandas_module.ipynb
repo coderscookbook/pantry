{
 "cells": [
  {
   "cell_type": "code",
   "execution_count": null,
   "id": "4062bd73-c6cc-4b74-9927-c072aa086fac",
   "metadata": {
    "editable": true,
    "slideshow": {
     "slide_type": ""
    },
    "tags": []
   },
   "outputs": [],
   "source": [
    "# !pip install pandas --upgrade"
   ]
  },
  {
   "cell_type": "code",
   "execution_count": 1,
   "id": "7178432a",
   "metadata": {},
   "outputs": [],
   "source": [
    "import pandas as pd"
   ]
  },
  {
   "cell_type": "code",
   "execution_count": 3,
   "id": "43216d7e",
   "metadata": {},
   "outputs": [
    {
     "name": "stdout",
     "output_type": "stream",
     "text": [
      "\n",
      "data: \n",
      " {'one': 1, 'two': 2, 'three': 3, 'four': 4}\n"
     ]
    }
   ],
   "source": [
    "data = {\"one\": 1, \"two\": 2, \"three\": 3, \"four\": 4}\n",
    "print(\"\\ndata: \\n\", data)"
   ]
  },
  {
   "cell_type": "code",
   "execution_count": 4,
   "id": "e36d96d3",
   "metadata": {},
   "outputs": [
    {
     "name": "stdout",
     "output_type": "stream",
     "text": [
      "\n",
      "Explicit Index: \n",
      "    one  two  three  four\n",
      "a    1    2      3     4\n",
      "b    1    2      3     4\n",
      "c    1    2      3     4\n",
      "d    1    2      3     4\n"
     ]
    }
   ],
   "source": [
    "# Explicitly providing an index\n",
    "df = pd.DataFrame(data, index=[\"a\", \"b\", \"c\", \"d\"])\n",
    "print(\"\\nExplicit Index: \\n\", df)"
   ]
  },
  {
   "cell_type": "code",
   "execution_count": 5,
   "id": "a19d5bb2",
   "metadata": {},
   "outputs": [
    {
     "name": "stdout",
     "output_type": "stream",
     "text": [
      "\n",
      "data_list: \n",
      " [['one', 1], ['two', 2], ['three', 3], ['four', 4]]\n"
     ]
    }
   ],
   "source": [
    "# Turning dictionary into a list of lists\n",
    "data_list = [[key, value] for key, value in data.items()]\n",
    "print(\"\\ndata_list: \\n\", data_list)"
   ]
  },
  {
   "cell_type": "code",
   "execution_count": 6,
   "id": "fe6efe85",
   "metadata": {},
   "outputs": [
    {
     "name": "stdout",
     "output_type": "stream",
     "text": [
      "\n",
      "Implicit Index: \n",
      "     word  symbol\n",
      "0    one       1\n",
      "1    two       2\n",
      "2  three       3\n",
      "3   four       4\n"
     ]
    }
   ],
   "source": [
    "# Implicitly providing an index using a list of lists\n",
    "# data_list = [[\"one\", 1], [\"two\", 2], [\"three\", 3], [\"four\", 4]]\n",
    "df = pd.DataFrame(data_list, columns=[\"word\", \"symbol\"])\n",
    "print(\"\\nImplicit Index: \\n\", df)"
   ]
  },
  {
   "cell_type": "code",
   "execution_count": null,
   "id": "eba77810-d243-4e39-bf69-e50067dc7ce9",
   "metadata": {},
   "outputs": [],
   "source": []
  }
 ],
 "metadata": {
  "kernelspec": {
   "display_name": "Python 3 (ipykernel)",
   "language": "python",
   "name": "python3"
  },
  "language_info": {
   "codemirror_mode": {
    "name": "ipython",
    "version": 3
   },
   "file_extension": ".py",
   "mimetype": "text/x-python",
   "name": "python",
   "nbconvert_exporter": "python",
   "pygments_lexer": "ipython3",
   "version": "3.11.4"
  }
 },
 "nbformat": 4,
 "nbformat_minor": 5
}
