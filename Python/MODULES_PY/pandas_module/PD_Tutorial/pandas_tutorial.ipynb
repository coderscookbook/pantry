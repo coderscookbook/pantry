{
 "cells": [
  {
   "cell_type": "markdown",
   "id": "8394c087",
   "metadata": {},
   "source": [
    "# NOTES"
   ]
  },
  {
   "cell_type": "markdown",
   "id": "adb2f837",
   "metadata": {},
   "source": [
    "##### [Tutorial Source](https://pandas.pydata.org/pandas-docs/stable/getting_started/intro_tutorials/01_table_oriented.html)"
   ]
  },
  {
   "cell_type": "markdown",
   "id": "b490cf32",
   "metadata": {},
   "source": [
    "##### Imports\n",
    "- Auto reload modules when modules change\n",
    "    - Install into .ipynb file: `%load_ext autoreload`\n",
    "  - `%autoreload` options:\n",
    "    - 0: turns off autoreload \n",
    "    - 1: reloads only explicitly reimported modules \n",
    "    - 2: auto-reloads all modules whenever they changeoreload \n",
    "\n",
    "##### Part 1\n",
    "- `object` in dtypes output refers to a `string`"
   ]
  },
  {
   "cell_type": "markdown",
   "id": "f568ae6c",
   "metadata": {},
   "source": [
    "# Imports"
   ]
  },
  {
   "cell_type": "code",
   "execution_count": 4,
   "id": "bf5d66ef",
   "metadata": {},
   "outputs": [
    {
     "name": "stdout",
     "output_type": "stream",
     "text": [
      "Data imported successfully from '/Users/soigne/PROJECTS/PANTRY/Python/MODULES_PY/pandas_module/PD_Tutorial/manifest.csv'\n",
      "Execution time: 0.0026679039001464844 seconds...\n",
      "----------------------------------------------------------------------------------------------------------------\n",
      "<<<<<<<<<<<<<<<<\tDATA: Head\t\t>>>>>>>>>>>>>>>>\n",
      "    PassengerId  Survived  Pclass                                                 Name     Sex   Age  SibSp  Parch            Ticket     Fare Cabin Embarked\n",
      "0            1         0       3                              Braund, Mr. Owen Harris    male  22.0      1      0         A/5 21171   7.2500   NaN        S\n",
      "1            2         1       1  Cumings, Mrs. John Bradley (Florence Briggs Thayer)  female  38.0      1      0          PC 17599  71.2833   C85        C\n",
      "2            3         1       3                                Heikkinen, Miss Laina  female  26.0      0      0  STON/O2. 3101282   7.9250   NaN        S\n",
      "3            4         1       1         Futrelle, Mrs. Jacques Heath (Lily May Peel)  female  35.0      1      0            113803  53.1000  C123        S\n",
      "4            5         0       3                             Allen, Mr. William Henry    male  35.0      0      0            373450   8.0500   NaN        S \n",
      "\n",
      "<<<<<<<<<<<<<<<<\tDATA: Tail\t\t>>>>>>>>>>>>>>>>\n",
      "      PassengerId  Survived  Pclass                                     Name     Sex   Age  SibSp  Parch      Ticket   Fare Cabin Embarked\n",
      "886          887         0       2                    Montvila, Rev. Juozas    male  27.0      0      0      211536  13.00   NaN        S\n",
      "887          888         1       1              Graham, Miss Margaret Edith  female  19.0      0      0      112053  30.00   B42        S\n",
      "888          889         0       3  Johnston, Miss Catherine Helen \"Carrie\"  female   NaN      1      2  W./C. 6607  23.45   NaN        S\n",
      "889          890         1       1                    Behr, Mr. Karl Howell    male  26.0      0      0      111369  30.00  C148        C\n",
      "890          891         0       3                      Dooley, Mr. Patrick    male  32.0      0      0      370376   7.75   NaN        Q \n",
      "\n",
      "<<<<<<<<<<<<<<<<\tDATA: DTypes\t>>>>>>>>>>>>>>>>\n",
      " PassengerId      int64\n",
      "Survived         int64\n",
      "Pclass           int64\n",
      "Name            object\n",
      "Sex             object\n",
      "Age            float64\n",
      "SibSp            int64\n",
      "Parch            int64\n",
      "Ticket          object\n",
      "Fare           float64\n",
      "Cabin           object\n",
      "Embarked        object\n",
      "dtype: object \n",
      "\n",
      "<<<<<<<<<<<<<<<<\tDATA: Shape\t>>>>>>>>>>>>>>>>\n",
      " (891, 12) \n",
      "\n",
      "<<<<<<<<<<<<<<<<\tDATA: Statistics\t>>>>>>>>>>>>>>>>\n",
      "        PassengerId    Survived      Pclass         Age       SibSp       Parch        Fare\n",
      "count   891.000000  891.000000  891.000000  714.000000  891.000000  891.000000  891.000000\n",
      "mean    446.000000    0.383838    2.308642   29.699118    0.523008    0.381594   32.204208\n",
      "std     257.353842    0.486592    0.836071   14.526497    1.102743    0.806057   49.693429\n",
      "min       1.000000    0.000000    1.000000    0.420000    0.000000    0.000000    0.000000\n",
      "25%     223.500000    0.000000    2.000000   20.125000    0.000000    0.000000    7.910400\n",
      "50%     446.000000    0.000000    3.000000   28.000000    0.000000    0.000000   14.454200\n",
      "75%     668.500000    1.000000    3.000000   38.000000    1.000000    0.000000   31.000000\n",
      "max     891.000000    1.000000    3.000000   80.000000    8.000000    6.000000  512.329200 \n",
      "\n",
      "<<<<<<<<<<<<<<<< End of VerifyData! >>>>>>>>>>>>>>>>\n",
      "----------------------------------------------------------------------------------------------------------------\n"
     ]
    }
   ],
   "source": [
    "# Import Python Modules\n",
    "# %autoreload 2 \n",
    "import importlib\n",
    "import pandas as pd # type: ignore\n",
    "import os\n",
    "import sys\n",
    "# Import Custom Modules\n",
    "from decorators import CsvToDF, Sep, VerifyData\n",
    "\n",
    "# Check Module Versions\n",
    "# check_imported_versions(globals())\n",
    "# sep()\n",
    "\n",
    "# Import Data\n",
    "cwd       = os.getcwd()\n",
    "csv_file  = 'manifest.csv'\n",
    "csv_filepath = os.path.join(cwd, csv_file)\n",
    "data = CsvToDF(csv_filepath) \n",
    "\n",
    "# Print to Verify Data\n",
    "VerifyData(dataframe=data, df_name=\"DATA\", rows_to_display=5)"
   ]
  },
  {
   "cell_type": "markdown",
   "id": "c86eae1c",
   "metadata": {},
   "source": [
    "# TUTORIAL"
   ]
  },
  {
   "cell_type": "markdown",
   "metadata": {},
   "source": [
    "### PART 1: Reading/Writing Tabular Data and Exploring DataFrame Info"
   ]
  },
  {
   "cell_type": "markdown",
   "id": "e7e92e07",
   "metadata": {},
   "source": [
    "##### Export Data to Excel File"
   ]
  },
  {
   "cell_type": "code",
   "execution_count": null,
   "id": "f79dc290",
   "metadata": {},
   "outputs": [],
   "source": [
    "# Export data to Excel file\n",
    "data.to_excel(\"manifest.xlsx\", sheet_name=\"passengers\", index=False)\n",
    "titanic = pd.read_excel(\"manifest.xlsx\", sheet_name=\"passengers\")\n",
    "# print(titanic.head(10).to_string())\n",
    "# print(titanic.tail(10).to_string())"
   ]
  },
  {
   "cell_type": "markdown",
   "metadata": {},
   "source": [
    "##### Reading/Writing Tabular Data and Exploring DataFrame Info"
   ]
  },
  {
   "cell_type": "code",
   "execution_count": 41,
   "id": "8f0bf25f",
   "metadata": {},
   "outputs": [],
   "source": [
    "print(\"Shape: \", data.shape)\n",
    "Sep()\n",
    "print(data.info())\n",
    "'''\n",
    "Output Explanation:\n",
    "- It is indeed a DataFrame.\n",
    "- There are 891 entries, i.e. 891 rows.\n",
    "- Each row has a row label (aka the index) with values ranging from 0 to 890.\n",
    "- The table has 12 columns. Most columns have a value for each of the rows (all 891 values are non-null). Some columns do have missing values and less than 891 non-null values.\n",
    "- The columns Name, Sex, Cabin and Embarked consists of textual data (strings, aka object). The other columns are numerical data with some of them whole numbers (aka integer) and others are real numbers (aka float).\n",
    "- The kind of data (characters, integers,…) in the different columns are summarized by listing the dtypes.\n",
    "- The approximate amount of RAM used to hold the DataFrame is provided as well.\n",
    "'''"
   ]
  },
  {
   "cell_type": "markdown",
   "id": "7a6af8b1",
   "metadata": {},
   "source": [
    "##### DataFrame Attributes"
   ]
  },
  {
   "cell_type": "code",
   "execution_count": 51,
   "id": "f171a9c6",
   "metadata": {},
   "outputs": [],
   "source": [
    "# index: displays the labels of the rows\n",
    "print(\"INDEX:\\n\", data.index)\n",
    "# columns: displays the labels of the columns\n",
    "print(\"COLUMNS:\\n\", data.columns)\n",
    "# axes: returns a list of the row and column labels (i.e., [index, columns])\n",
    "print(\"AXES:\\n\", data.axes)\n",
    "# dtypes: displays the data type of each column\n",
    "print(\"DTYPES:\\n\", data.dtypes)\n",
    "# size: displays the total number of elements (rows x columns)\n",
    "print(\"SIZE:\\n\", data.size)\n",
    "# ndim: displays the number of dimensions\n",
    "print(\"NDIM:\\n\", data.ndim)\n",
    "# empty: displays 'True' if the dataframe is empty, otherwise 'False'\n",
    "print(\"EMPTY:\\n\", data.empty)\n",
    "# T: transposes the dataframe, swapping rows with columns\n",
    "print(\"TRANSPOSE:\\n\", data.T)\n",
    "# values: returns the dataframe data as a NumPy array\n",
    "print(\"VALUES:\\n\", data.values)"
   ]
  },
  {
   "cell_type": "markdown",
   "id": "ce2cd3ff",
   "metadata": {},
   "source": [
    "### PART 2: Selecting Subsets of a DF"
   ]
  },
  {
   "cell_type": "code",
   "execution_count": null,
   "id": "bc9076a0",
   "metadata": {},
   "outputs": [],
   "source": [
    "ages = data[\"Age\"]\n",
    "print(ages.head())\n",
    "# Check type: should be a one-dimensional 'series'\n",
    "print(type(ages))\n",
    "# Check shape of the output: (rows, columns)\n",
    "print(ages.shape)\n",
    "\n",
    "# Selecting multiple columns creates a DataFrame\n",
    "new_df = data[[\"Age\", \"Sex\"]]\n",
    "print(new_df.head())\n",
    "print(type(new_df))\n",
    "print(new_df.shape)"
   ]
  },
  {
   "cell_type": "markdown",
   "id": "decf5995",
   "metadata": {},
   "source": [
    "### PART 3: Filter Specific Rows from a DF"
   ]
  },
  {
   "cell_type": "markdown",
   "id": "826e2617",
   "metadata": {},
   "source": [
    "##### Get passengers older than 35"
   ]
  },
  {
   "cell_type": "code",
   "execution_count": null,
   "id": "b12215a7",
   "metadata": {},
   "outputs": [],
   "source": [
    "above_35 = data[data[\"Age\"] > 35]\n",
    "below_35 = data[data[\"Age\"] < 35]\n",
    "is_35    = data[data[\"Age\"] == 35]\n",
    "age_na   = data[pd.isna(data[\"Age\"])]\n",
    "print(data.shape)\n",
    "Sep()\n",
    "\n",
    "print(\"Aged >35: \", above_35.shape)\n",
    "print(\"Aged <35: \", below_35.shape)\n",
    "print(\"Aged =35: \", is_35.shape)\n",
    "print(\"Aged N/A: \", age_na.shape)\n",
    "print(\"Sum: \", sum([above_35.shape[0], below_35.shape[0], is_35.shape[0], age_na.shape[0]]))\n",
    "Sep()\n",
    "\n",
    "print(data[\"Age\"] > 35)"
   ]
  },
  {
   "cell_type": "markdown",
   "id": "24d86ac7",
   "metadata": {},
   "source": [
    "##### Get passengers from cabin class 2 and 3"
   ]
  },
  {
   "cell_type": "code",
   "execution_count": null,
   "id": "e41b279d",
   "metadata": {},
   "outputs": [],
   "source": [
    "# Original:\n",
    "# class_2_3 = data[(data[\"Pclass\"] == 2) | (data[\"Pclass\"] == 3)]\n",
    "# Simplified:\n",
    "class_2_3 = data[data[\"Pclass\"].isin([2, 3])]\n",
    "\n",
    "# Verify Data:\n",
    "VerifyData(class_2_3, \"class_2_3\", 10)"
   ]
  },
  {
   "cell_type": "markdown",
   "id": "6e7f0655",
   "metadata": {},
   "source": [
    "##### Work with passenger data for which the age is known"
   ]
  },
  {
   "cell_type": "code",
   "execution_count": null,
   "id": "67712f88",
   "metadata": {},
   "outputs": [],
   "source": [
    "age_no_na = data[data[\"Age\"].notna()]\n",
    "print(age_no_na.head().to_string())"
   ]
  },
  {
   "cell_type": "markdown",
   "id": "7870e2e8",
   "metadata": {},
   "source": [
    "### Review Questions"
   ]
  },
  {
   "cell_type": "code",
   "execution_count": 5,
   "id": "dce4c9ee",
   "metadata": {},
   "outputs": [],
   "source": [
    "# Test Dataset for Review Questions\n",
    "data = {\n",
    "    \"ID\": [1, 2, 3, 4, 5],\n",
    "    \"Name\": [\"Alice\", \"Bob\", \"Charlie\", \"David\", \"Eva\"],\n",
    "    \"Age\": [25, 30, 35, 40, 45],\n",
    "    \"City\": [\"New York\", \"San Francisco\", \"Chicago\", \"Los Angeles\", \"New York\"],\n",
    "    \"Salary\": [70000, 85000, 65000, 90000, 120000],\n",
    "    \"Department\": [\"IT\", \"HR\", \"IT\", \"Marketing\", \"IT\"]\n",
    "}\n",
    "\n",
    "df = pd.DataFrame(data)"
   ]
  },
  {
   "cell_type": "markdown",
   "id": "c4948e8d",
   "metadata": {},
   "source": [
    "##### 1: Filter and summarize data"
   ]
  },
  {
   "cell_type": "code",
   "execution_count": 8,
   "id": "956e394e",
   "metadata": {},
   "outputs": [
    {
     "name": "stdout",
     "output_type": "stream",
     "text": [
      "Empty DataFrame\n",
      "Columns: []\n",
      "Index: [0, 1, 2, 3, 4]\n"
     ]
    }
   ],
   "source": [
    "# Filter the data to show only employees from the IT department. \n",
    "# Then, calculate the average salary for the IT department.\n",
    "it_emps = df.filter()\n",
    "print(it_emps)"
   ]
  }
 ],
 "metadata": {
  "kernelspec": {
   "display_name": "Python 3 (ipykernel)",
   "language": "python",
   "name": "python3"
  },
  "language_info": {
   "codemirror_mode": {
    "name": "ipython",
    "version": 3
   },
   "file_extension": ".py",
   "mimetype": "text/x-python",
   "name": "python",
   "nbconvert_exporter": "python",
   "pygments_lexer": "ipython3",
   "version": "3.11.4"
  }
 },
 "nbformat": 4,
 "nbformat_minor": 5
}
